{
 "cells": [
  {
   "cell_type": "code",
   "execution_count": 21,
   "metadata": {},
   "outputs": [
    {
     "name": "stdout",
     "output_type": "stream",
     "text": [
      "twinkle, twinkle, litle star,\n",
      "      How I Wonder what you are! \n",
      "           Up above the world so high,\n",
      "           like a diamond in the sky.\n",
      "Twinkle twinkle litle star, \n",
      "      How I Wonder what you are!\n"
     ]
    }
   ],
   "source": [
    "poem = (\"twinkle, twinkle, litle star,\\n \" \"     How I Wonder what you are! \\n \" \"          Up above the world so high,\\n\" \"           like a diamond in the sky.\\n\"\"Twinkle twinkle litle star, \\n \" \"     How I Wonder what you are!\")\n",
    "print(poem)"
   ]
  },
  {
   "cell_type": "code",
   "execution_count": 24,
   "metadata": {},
   "outputs": [
    {
     "name": "stdout",
     "output_type": "stream",
     "text": [
      "Python version is 3.7.4 (default, Aug  9 2019, 18:34:13) [MSC v.1915 64 bit (AMD64)]\n"
     ]
    }
   ],
   "source": [
    "import sys\n",
    "print(\"Python version is \" + sys.version)"
   ]
  },
  {
   "cell_type": "code",
   "execution_count": 30,
   "metadata": {},
   "outputs": [
    {
     "name": "stdout",
     "output_type": "stream",
     "text": [
      "2019-11-03 13:00:47.024874\n"
     ]
    }
   ],
   "source": [
    "import datetime\n",
    "currentDT = datetime.datetime.now()\n",
    "print(currentDT)"
   ]
  },
  {
   "cell_type": "code",
   "execution_count": 34,
   "metadata": {},
   "outputs": [
    {
     "name": "stdout",
     "output_type": "stream",
     "text": [
      "Input the radius of the circle: 1\n",
      "The area of the circle with radius 1.0is:3.141592653589793\n"
     ]
    }
   ],
   "source": [
    "from math import pi\n",
    "r = float(input(\"Input the radius of the circle: \"))\n",
    "print(\"The area of the circle with radius \" + str(r) + \"is:\" + str(pi*r**2))"
   ]
  },
  {
   "cell_type": "code",
   "execution_count": 35,
   "metadata": {},
   "outputs": [
    {
     "name": "stdout",
     "output_type": "stream",
     "text": [
      "Enter your fisrt nameShehroz\n",
      "Enter your last nameahmed\n",
      "ahmed Shehroz\n"
     ]
    }
   ],
   "source": [
    "firstName = input(\"Enter your fisrt name\")\n",
    "lastName = input(\"Enter your last name\")\n",
    "print(lastName + \" \" + firstName)"
   ]
  },
  {
   "cell_type": "code",
   "execution_count": 39,
   "metadata": {},
   "outputs": [
    {
     "name": "stdout",
     "output_type": "stream",
     "text": [
      "Enter first digit2\n",
      "Enter last digit3\n",
      "5\n"
     ]
    }
   ],
   "source": [
    "first_no = int(input(\"Enter first digit\"))\n",
    "last_no = int(input(\"Enter last digit\"))\n",
    "print(first_no + last_no)"
   ]
  },
  {
   "cell_type": "markdown",
   "metadata": {},
   "source": []
  }
 ],
 "metadata": {
  "kernelspec": {
   "display_name": "Python 3",
   "language": "python",
   "name": "python3"
  },
  "language_info": {
   "codemirror_mode": {
    "name": "ipython",
    "version": 3
   },
   "file_extension": ".py",
   "mimetype": "text/x-python",
   "name": "python",
   "nbconvert_exporter": "python",
   "pygments_lexer": "ipython3",
   "version": "3.7.4"
  }
 },
 "nbformat": 4,
 "nbformat_minor": 2
}
