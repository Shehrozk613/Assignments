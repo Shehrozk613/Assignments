{
 "cells": [
  {
   "cell_type": "code",
   "execution_count": 8,
   "metadata": {},
   "outputs": [
    {
     "name": "stdout",
     "output_type": "stream",
     "text": [
      "Operation to perform:\n",
      "1. Addition\n",
      "2. subraction\n",
      "3. multiplication\n",
      "4. division\n",
      "5. Raising a power to number\n",
      "Enter choice: 5\n",
      "Enter first number 2\n",
      "Enter second number3\n",
      "2 ** 3 = 8\n"
     ]
    }
   ],
   "source": [
    "def addition(x,y):\n",
    "    return x + y;\n",
    "def subtraction(x,y):\n",
    "    return x - y;\n",
    "def multiplication(x,y):\n",
    "    return x * y;\n",
    "def division(x,y):\n",
    "    return x / y;\n",
    "def raisePower(x,y):\n",
    "    return x**y;\n",
    "\n",
    "print(\"Operation to perform:\");\n",
    "print(\"1. Addition\");\n",
    "print(\"2. subraction\");\n",
    "print(\"3. multiplication\");\n",
    "print(\"4. division\");\n",
    "print(\"5. Raising a power to number\");\n",
    "\n",
    "choice = input(\"Enter choice: \");\n",
    "num1 = int(input(\"Enter first number \"));\n",
    "num2 = int(input(\"Enter second number\"));\n",
    "\n",
    "if choice == '1':\n",
    "    print(num1, \"+\" ,num2, \"=\" , addition(num1, num2));\n",
    "elif choice == '2':\n",
    "    print(num1, \"-\" ,num2, \"=\" , subtraction(num1, num2));\n",
    "elif choice == '3':\n",
    "    print(num1, \"*\" ,num2, \"=\" , multiplication(num1, num2));\n",
    "elif choice == '4':\n",
    "    print(num1, \"/\" ,num2, \"=\" , division(num1, num2));\n",
    "elif choice == '5':\n",
    "    print(num1, \"**\" ,num2, \"=\" , raisePower(num1, num2));\n",
    "else:\n",
    "    print(\"Please enter a valid input\")"
   ]
  },
  {
   "cell_type": "code",
   "execution_count": 17,
   "metadata": {},
   "outputs": [
    {
     "name": "stdout",
     "output_type": "stream",
     "text": [
      "{0: 10, 1: 20}\n",
      "{0: 10, 1: 20, 2: 30}\n"
     ]
    }
   ],
   "source": [
    "#add a key to dictionary\n",
    "d ={0:10,\n",
    "1:20}\n",
    "print(d)\n",
    "d.update({2:30})\n",
    "print(d)"
   ]
  },
  {
   "cell_type": "code",
   "execution_count": 2,
   "metadata": {},
   "outputs": [
    {
     "name": "stdout",
     "output_type": "stream",
     "text": [
      "293\n"
     ]
    }
   ],
   "source": [
    "#sum all items in a dictionary\n",
    "dic = {'data1':100,'data2':-54,'data':247}\n",
    "print(sum(dic.values()))"
   ]
  },
  {
   "cell_type": "code",
   "execution_count": null,
   "metadata": {},
   "outputs": [],
   "source": [
    "d = {1:10,2:20,3:30,4:40,5:50}\n",
    "def is_present(x):\n",
    "if x in d:\n",
    "print(\"key is present in the dictionary\")\n",
    "else:\n",
    "print(\"key is not present in the dictionary\")"
   ]
  }
 ],
 "metadata": {
  "kernelspec": {
   "display_name": "Python 3",
   "language": "python",
   "name": "python3"
  },
  "language_info": {
   "codemirror_mode": {
    "name": "ipython",
    "version": 3
   },
   "file_extension": ".py",
   "mimetype": "text/x-python",
   "name": "python",
   "nbconvert_exporter": "python",
   "pygments_lexer": "ipython3",
   "version": "3.7.4"
  }
 },
 "nbformat": 4,
 "nbformat_minor": 2
}
