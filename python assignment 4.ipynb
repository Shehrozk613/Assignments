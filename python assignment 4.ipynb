{
 "cells": [
  {
   "cell_type": "code",
   "execution_count": 1,
   "metadata": {},
   "outputs": [
    {
     "name": "stdout",
     "output_type": "stream",
     "text": [
      "{'first_name': 'Abdul manan', 'last_name': 'abbasi', 'age': 25, 'city': 'karachi', 'qualification': 'BSCS'}\n",
      "{'first_name': 'Abdul manan', 'last_name': 'abbasi', 'age': 25, 'city': 'karachi'}\n"
     ]
    }
   ],
   "source": [
    "person_details = {\n",
    "    \"first_name\" : \"Abdul manan\",\n",
    "    \"last_name\" : \"abbasi\",\n",
    "    \"age\" : 25,\n",
    "    \"city\" : \"karachi\",\n",
    "}\n",
    "person_details.update({\"qualification\" : \"BSCS\"})\n",
    "print(person_details)\n",
    "del person_details[\"qualification\"]\n",
    "print(person_details)"
   ]
  },
  {
   "cell_type": "code",
   "execution_count": 2,
   "metadata": {},
   "outputs": [
    {
     "name": "stdout",
     "output_type": "stream",
     "text": [
      " karachi is the city of  pakistan\n",
      " population: 22crore\n",
      " fact: karachi is the city of lights\n",
      "\n",
      " washingtonDC is the city of america\n",
      " population:12crore\n",
      " fact:washingtonDC is a full secure city\n",
      "\n",
      " mumbai is the city of india\n",
      " population:1billion\n",
      " fact:mumbai is a city of films making\n",
      "\n"
     ]
    }
   ],
   "source": [
    "cities = {\n",
    "    \"karachi\" : [\" pakistan\",\" 22crore\",\" karachi is the city of lights\"],\n",
    "    \"washintonDC\" : [\"america\",\"12crore\",\"washingtonDC is a full secure city\"],\n",
    "    \"mumbai\" :[\"india\", \"1billion\",\"mumbai is a city of films making\"] ,\n",
    "}\n",
    "\n",
    "print(\" karachi is the city of \" + cities[\"karachi\"][0]+ \"\\n population:\" + cities[\"karachi\"][1]+ \"\\n fact:\"+cities[\"karachi\"][2]+ \"\\n\")\n",
    "print(\" washingtonDC is the city of \" + cities[\"washintonDC\"][0]+ \"\\n population:\" + cities[\"washintonDC\"][1]+ \"\\n fact:\"+cities[\"washintonDC\"][2]+ \"\\n\")\n",
    "print(\" mumbai is the city of \" + cities[\"mumbai\"][0]+ \"\\n population:\" + cities[\"mumbai\"][1]+ \"\\n fact:\"+cities[\"mumbai\"][2]+ \"\\n\")"
   ]
  },
  {
   "cell_type": "code",
   "execution_count": 3,
   "metadata": {},
   "outputs": [
    {
     "name": "stdout",
     "output_type": "stream",
     "text": [
      "please enter your age14\n",
      "the ticket is $15\n"
     ]
    }
   ],
   "source": [
    "age = int(input(\"please enter your age\"))\n",
    "if age == 3:\n",
    "    print(\"the ticket is free\")\n",
    "elif age < 12:\n",
    "    print(\"the ticket is $10\")\n",
    "elif age > 12:\n",
    "    print(\"the ticket is $15\")"
   ]
  },
  {
   "cell_type": "code",
   "execution_count": 4,
   "metadata": {},
   "outputs": [
    {
     "name": "stdout",
     "output_type": "stream",
     "text": [
      "One of my fav book is Holy Quran\n"
     ]
    }
   ],
   "source": [
    "def fav_book(title):\n",
    "    print(title)\n",
    "fav_book(\"One of my fav book is Holy Quran\")   "
   ]
  },
  {
   "cell_type": "code",
   "execution_count": 10,
   "metadata": {},
   "outputs": [
    {
     "name": "stdout",
     "output_type": "stream",
     "text": [
      "please enter a number between 1 to 30 [hind : the num bigger the 10 less then 30]19\n",
      "please enter a number between 1 to 30 [hind : the num bigger the 10 less then 30]16\n",
      "please enter a number between 1 to 30 [hind : the num bigger the 10 less then 30]17\n",
      "Your answer is correct 17 \n"
     ]
    }
   ],
   "source": [
    "ask1 = int(input(\"please enter a number between 1 to 30 [hind : the num bigger the 10 less then 30]\"))\n",
    "ask2 = int(input(\"please enter a number between 1 to 30 [hind : the num bigger the 10 less then 30]\"))\n",
    "ask3 = int(input(\"please enter a number between 1 to 30 [hind : the num bigger the 10 less then 30]\"))\n",
    "\n",
    "answer = 17\n",
    "\n",
    "if ask1 == answer or ask2 == answer  or ask3 == answer:\n",
    "    print(\"Your answer is correct 17 \")\n",
    "else:\n",
    "    print(\"your answer is wrong\")"
   ]
  },
  {
   "cell_type": "markdown",
   "metadata": {},
   "source": []
  }
 ],
 "metadata": {
  "kernelspec": {
   "display_name": "Python 3",
   "language": "python",
   "name": "python3"
  },
  "language_info": {
   "codemirror_mode": {
    "name": "ipython",
    "version": 3
   },
   "file_extension": ".py",
   "mimetype": "text/x-python",
   "name": "python",
   "nbconvert_exporter": "python",
   "pygments_lexer": "ipython3",
   "version": "3.7.4"
  }
 },
 "nbformat": 4,
 "nbformat_minor": 2
}
