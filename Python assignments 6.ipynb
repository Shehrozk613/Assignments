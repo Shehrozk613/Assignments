{
 "cells": [
  {
   "cell_type": "markdown",
   "metadata": {},
   "source": [
    "# Question 1: Define Object Oriented programming?\n"
   ]
  },
  {
   "cell_type": "markdown",
   "metadata": {},
   "source": [
    "###### Answer: \n",
    "Object-oriented programming (OOP) refers to a type of computer programming (software design) in which programmers define the data type of a data structure, and also the types of operations (functions) that can be applied to the data structure.In this way, the data structure becomes an object that includes both data and functions. In addition, programmers can create relationships between one object and another. For example, objects can inherit characteristics from other objects."
   ]
  },
  {
   "cell_type": "markdown",
   "metadata": {},
   "source": [
    "# Question 2: List down the benefits of OOP?"
   ]
  },
  {
   "cell_type": "markdown",
   "metadata": {},
   "source": [
    "###### Answer: "
   ]
  },
  {
   "cell_type": "markdown",
   "metadata": {},
   "source": [
    "The advantages of OOP are mentioned below:\n",
    "\n",
    "1- OOP provides a clear modular structure for programs.\n",
    "\n",
    "2- It is good for defining abstract data types.\n",
    "\n",
    "3- Implementation details are hidden from other modules and other modules has a clearly defined interface.\n",
    "\n",
    "4- It is easy to maintain and modify existing code as new objects can be created with small differences to existing ones.\n",
    "\n",
    "5- Objects, methods, instance, message passing, inheritance are some important properties provided by these particular languages.\n",
    "\n",
    "6- Encapsulation, polymorphism, abstraction are also counts in these fundamentals of programming language.\n",
    "\n",
    "7- It implements real life scenario.\n",
    "\n",
    "8- In OOP, programmer not only defines data types but also deals with operations applied for data structures."
   ]
  },
  {
   "cell_type": "markdown",
   "metadata": {},
   "source": [
    "# Question 3: Diff b/w method and function?"
   ]
  },
  {
   "cell_type": "markdown",
   "metadata": {},
   "source": [
    "###### Answer: "
   ]
  },
  {
   "cell_type": "markdown",
   "metadata": {},
   "source": [
    "Method : Method is called by its name, but it is associated to an object (dependent).\n",
    "A method is implicitly passed the object on which it is invoked.\n",
    "It may or may not return any data.\n",
    "A method can operate on the data (instance variables) that is contained by the corresponding class\n",
    "\n",
    "Function: Function is block of code that is also called by its name. (independent)\n",
    "The function can have different parameters or may not have any at all. If any data (parameters) are passed, they are passed explicitly.\n",
    "It may or may not return any data.\n",
    "Function does not deal with Class and its instance concept.\n",
    "\n",
    "Simply, function and method both look similar as they perform in almost similar way, but the key difference is the concept of ‘Class and its Object‘.\n",
    "\n",
    "Functions can be called only by its name, as it is defined independently. But methods can’t be called by its name only, we need to invoke the class by a reference of that class in which it is defined, i.e. method is defined within a class and hence they are dependent on that class."
   ]
  },
  {
   "cell_type": "markdown",
   "metadata": {},
   "source": [
    "# Question 4: Define the following terms?\n",
    "### 1: Class\n",
    "### 2: Object\n",
    "### 3: Attribute \n",
    "### 4: Behaviour"
   ]
  },
  {
   "cell_type": "markdown",
   "metadata": {},
   "source": [
    "###### Answer: "
   ]
  },
  {
   "cell_type": "markdown",
   "metadata": {},
   "source": [
    "#### Class:\n",
    "\n",
    "Class is a blueprint for the object:\n",
    "\n",
    "It contains all details like name,model,color,year etc based on descriptons for example Car is an object,\n",
    "\n",
    "class Car()\n",
    "\n",
    "We use class as a keyword.From class we contruct instance from a particular class."
   ]
  },
  {
   "cell_type": "markdown",
   "metadata": {},
   "source": [
    "#### Object:\n",
    "An object is an intantiation of a class. When class is defined, only the description for the object is defined. therefor, no memory or storage is allocated.\n",
    "\n",
    "example:\n",
    "\n",
    "Obj = Car()"
   ]
  },
  {
   "cell_type": "markdown",
   "metadata": {},
   "source": [
    "#### Attribute:\n",
    "\n",
    "In python, every object has some default attribute and methods in addition to user defined attribute.\n",
    "\n",
    "SOME EXAMPLES:\n",
    "\n",
    "Class attribute\n",
    "\n",
    "While instance attributes are specific to each object, class attributes are the same for all instances which in this case is all dogs.\n",
    "\n",
    "class Dog:\n",
    "\n",
    "    # Class Attribute\n",
    "    species = 'mammal'\n",
    "\n",
    "    # Initializer / Instance Attributes\n",
    "    def __init__(self, name, age):\n",
    "        self.name = name\n",
    "        self.age = age\n",
    "        \n",
    "        \n",
    "instance attribute:\n",
    "\n",
    "All classes create objects, and all objects contain characteristics called attributes (referred to as properties in the opening paragraph). Use the __init__() method to initialize (e.g., specify) an object’s initial attributes by giving them their default value (or state). This method must have at least one argument as well as the self variable, which refers to the object itself (e.g., Dog).\n",
    "\n",
    "class Dog:\n",
    "\n",
    "    # Initializer / Instance Attributes\n",
    "    def __init__(self, name, age):\n",
    "        self.name = name\n",
    "        self.age = age"
   ]
  },
  {
   "cell_type": "markdown",
   "metadata": {},
   "source": [
    "# Question 5: Write a code in python in which create a class named it Car whichhave 5 attributes such like (model, color and name etc.) and 3 methods. And create 5 object instance from that class."
   ]
  },
  {
   "cell_type": "markdown",
   "metadata": {},
   "source": [
    "###### Answer:"
   ]
  },
  {
   "cell_type": "code",
   "execution_count": 51,
   "metadata": {},
   "outputs": [
    {
     "name": "stdout",
     "output_type": "stream",
     "text": [
      "\n",
      "<===========CAR DETAIL 1=============>\n",
      "\n",
      "Carolla\n",
      "Toyata\n",
      "2019\n",
      "Black\n",
      "New\n",
      "\n",
      "<===========CAR DETAIL 2=============>\n",
      "\n",
      "V8\n",
      "mercedez\n",
      "1995\n",
      "grey\n",
      "Used\n",
      "\n",
      "<===========CAR DETAIL 3=============>\n",
      "\n",
      "Civic\n",
      "Hyndai\n",
      "2017\n",
      "white\n",
      "Used\n"
     ]
    }
   ],
   "source": [
    "#Class\n",
    "class Car():\n",
    "    #instantation method . and self is a prefix you can define anyother name its your choice\n",
    "    def __init__(self,name,brand,model,color,status):\n",
    "        \n",
    "        #attribute and their names\n",
    "        self.name = name\n",
    "        self.brand = brand\n",
    "        self.model = model\n",
    "        self.color = color\n",
    "        self.status = status\n",
    "        \n",
    "        \n",
    "        #methods\n",
    "    def car2(self,name2,brand2,model2,color2,status2):\n",
    "        self.name = name2\n",
    "        self.brand = brand2\n",
    "        self.model = model2\n",
    "        self.color = color2\n",
    "        self.status = status2\n",
    "        \n",
    "        #methods\n",
    "    def car3(self,name3,brand3,model3,color3,status3):\n",
    "        self.name = name3\n",
    "        self.brand = brand3\n",
    "        self.model = model3\n",
    "        self.color = color3\n",
    "        self.status = status3 \n",
    "        \n",
    "print('\\n'+'<===========CAR DETAIL 1=============>'+'\\n') \n",
    "\n",
    "#these is instance called 'value passing'\n",
    "car1 = Car('Carolla','Toyata','2019','Black','New')\n",
    "print(car1.name)\n",
    "print(car1.brand)\n",
    "print(car1.model)\n",
    "print(car1.color)\n",
    "print(car1.status)\n",
    "\n",
    "print('\\n'+'<===========CAR DETAIL 2=============>'+'\\n')\n",
    "\n",
    "#these is instance called 'value passing\n",
    "car1.car2('V8','mercedez','1995','grey','Used')\n",
    "print(car1.name)\n",
    "print(car1.brand)\n",
    "print(car1.model)\n",
    "print(car1.color)\n",
    "print(car1.status)\n",
    "\n",
    "print('\\n'+'<===========CAR DETAIL 3=============>'+'\\n')\n",
    "\n",
    "#these is instance called 'value passing\n",
    "car1.car2('Civic','Hyndai','2017','white','Used')\n",
    "print(car1.name)\n",
    "print(car1.brand)\n",
    "print(car1.model)\n",
    "print(car1.color)\n",
    "print(car1.status)"
   ]
  },
  {
   "cell_type": "code",
   "execution_count": null,
   "metadata": {},
   "outputs": [],
   "source": []
  }
 ],
 "metadata": {
  "kernelspec": {
   "display_name": "Python 3",
   "language": "python",
   "name": "python3"
  },
  "language_info": {
   "codemirror_mode": {
    "name": "ipython",
    "version": 3
   },
   "file_extension": ".py",
   "mimetype": "text/x-python",
   "name": "python",
   "nbconvert_exporter": "python",
   "pygments_lexer": "ipython3",
   "version": "3.7.4"
  }
 },
 "nbformat": 4,
 "nbformat_minor": 2
}
