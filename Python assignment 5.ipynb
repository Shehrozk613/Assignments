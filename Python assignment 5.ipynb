{
 "cells": [
  {
   "cell_type": "code",
   "execution_count": 39,
   "metadata": {},
   "outputs": [
    {
     "data": {
      "text/plain": [
       "24"
      ]
     },
     "execution_count": 39,
     "metadata": {},
     "output_type": "execute_result"
    }
   ],
   "source": [
    "def factorial(num):\n",
    "    if num == 0:\n",
    "        return 1\n",
    "    else:\n",
    "        return num * factorial(num-1)\n",
    "factorial(4)    "
   ]
  },
  {
   "cell_type": "code",
   "execution_count": 195,
   "metadata": {},
   "outputs": [
    {
     "name": "stdout",
     "output_type": "stream",
     "text": [
      "2 4 6 8 10 12 22 "
     ]
    }
   ],
   "source": [
    "def func(list):\n",
    "    a = [1,2,3,4,5,6,7,8,10,11,12,21,22]\n",
    "    for num in a:\n",
    "        if num % 2 == 0:\n",
    "            print(num,end = \" \")\n",
    "func(list)    \n"
   ]
  },
  {
   "cell_type": "code",
   "execution_count": 248,
   "metadata": {},
   "outputs": [
    {
     "name": "stdout",
     "output_type": "stream",
     "text": [
      "these is palindrom\n"
     ]
    }
   ],
   "source": [
    "def fun(check):\n",
    "    palin = \"wow\"  # madam #racecar # wow #level means if you fold these name exactly match the same name\n",
    "    palin = palin.casefold()\n",
    "    rev_str = reversed(palin)\n",
    "    if list(palin) == list(rev_str):\n",
    "        print(\"these is palindrom\")\n",
    "    else:\n",
    "        print(\"these is not palindrom\")\n",
    "fun(check)"
   ]
  },
  {
   "cell_type": "code",
   "execution_count": 102,
   "metadata": {},
   "outputs": [
    {
     "name": "stdout",
     "output_type": "stream",
     "text": [
      "21 is a prime number\n"
     ]
    }
   ],
   "source": [
    "def prim():\n",
    "    digit = 21\n",
    "    if digit > 1:\n",
    "        for i in range(2,digit//1):\n",
    "            if(digit % i) == 0:\n",
    "                print(digit,\"is not a prime number\")\n",
    "                break\n",
    "            else:\n",
    "                print(digit,\"is a prime number\")\n",
    "                break\n",
    "                \n",
    "prim()            "
   ]
  },
  {
   "cell_type": "code",
   "execution_count": 110,
   "metadata": {},
   "outputs": [
    {
     "name": "stdout",
     "output_type": "stream",
     "text": [
      "These is all shopping items:\n",
      "bag\n",
      "shoes\n",
      "nail polish\n"
     ]
    }
   ],
   "source": [
    "def shopping(*allitems):\n",
    "    for items in allitems:\n",
    "        print(items)\n",
    "shopping(\"These is all shopping items:\",\"bag\",\"shoes\",\"nail polish\")\n"
   ]
  },
  {
   "cell_type": "code",
   "execution_count": 12,
   "metadata": {},
   "outputs": [
    {
     "name": "stdout",
     "output_type": "stream",
     "text": [
      "Original String :  Shehroz Ahmed\n",
      "No. of Upper case characters :  2\n",
      "No. of Lower case Characters :  10\n"
     ]
    }
   ],
   "source": [
    "def string(s):\n",
    "    d={\"Up_count\":0, \"Lo_count\":0}\n",
    "    for c in s:\n",
    "        if c.isupper():\n",
    "           d[\"Up_count\"]+=1\n",
    "        elif c.islower():\n",
    "           d[\"Lo_count\"]+=1\n",
    "        else:\n",
    "            pass\n",
    "    print (\"Original String : \", s)\n",
    "    print (\"No. of Upper case characters : \", d[\"Up_count\"])\n",
    "    print (\"No. of Lower case Characters : \", d[\"Lo_count\"])\n",
    "\n",
    "string('Shehroz Ahmed')"
   ]
  },
  {
   "cell_type": "code",
   "execution_count": null,
   "metadata": {},
   "outputs": [],
   "source": []
  }
 ],
 "metadata": {
  "kernelspec": {
   "display_name": "Python 3",
   "language": "python",
   "name": "python3"
  },
  "language_info": {
   "codemirror_mode": {
    "name": "ipython",
    "version": 3
   },
   "file_extension": ".py",
   "mimetype": "text/x-python",
   "name": "python",
   "nbconvert_exporter": "python",
   "pygments_lexer": "ipython3",
   "version": "3.7.4"
  }
 },
 "nbformat": 4,
 "nbformat_minor": 2
}
