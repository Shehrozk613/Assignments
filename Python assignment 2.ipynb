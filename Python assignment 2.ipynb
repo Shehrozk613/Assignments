{
 "cells": [
  {
   "cell_type": "code",
   "execution_count": 2,
   "metadata": {},
   "outputs": [
    {
     "name": "stdout",
     "output_type": "stream",
     "text": [
      "whats your percentage?55\n",
      "your grade is c \n"
     ]
    }
   ],
   "source": [
    "per = int(input(\"whats your percentage?\"))\n",
    "if per >= 80 and per < 100:\n",
    "    print(\"your grade is a+ \")\n",
    "elif per >= 70 and per < 80:\n",
    "    print(\"your grade is a \") \n",
    "elif per >= 60 and per < 70: \n",
    "    print(\"your grade is b \") \n",
    "elif per >= 50 and per < 60: \n",
    "    print(\"your grade is c \") \n",
    "elif per >= 40 and per < 50: \n",
    "    print(\"your grade is d \") \n",
    "elif per >= 30 and per < 40: \n",
    "    print(\"your are fail\")  \n",
    "else:\n",
    "    print(\"you are fail\")"
   ]
  },
  {
   "cell_type": "code",
   "execution_count": 16,
   "metadata": {},
   "outputs": [
    {
     "name": "stdout",
     "output_type": "stream",
     "text": [
      "Enter your desired number19\n",
      "these number is odd 19\n"
     ]
    }
   ],
   "source": [
    "ask = int(input(\"Enter your desired number\"))\n",
    "if (ask%2)== 0:\n",
    "    print(\"these number is even\", ask)\n",
    "else:\n",
    "    print(\"these number is odd\", ask)"
   ]
  },
  {
   "cell_type": "code",
   "execution_count": 21,
   "metadata": {},
   "outputs": [
    {
     "name": "stdout",
     "output_type": "stream",
     "text": [
      "The lenght of the list is 4\n"
     ]
    }
   ],
   "source": [
    "lenght_list = [1,2,3,\"shehroz\"]\n",
    "print(\"The lenght of the list is\", len(lenght_list))"
   ]
  },
  {
   "cell_type": "code",
   "execution_count": 22,
   "metadata": {},
   "outputs": [
    {
     "name": "stdout",
     "output_type": "stream",
     "text": [
      "Total number is 19\n"
     ]
    }
   ],
   "source": [
    "sum_list = [5,5,9]\n",
    "print(\"Total number is\", sum(sum_list))"
   ]
  },
  {
   "cell_type": "code",
   "execution_count": 23,
   "metadata": {},
   "outputs": [
    {
     "name": "stdout",
     "output_type": "stream",
     "text": [
      "Largest number of the list is 8\n"
     ]
    }
   ],
   "source": [
    "largest_num = [1,2,3,4,5,6,7,8]\n",
    "print(\"Largest number of the list is\", max(largest_num))"
   ]
  },
  {
   "cell_type": "code",
   "execution_count": 25,
   "metadata": {},
   "outputs": [
    {
     "name": "stdout",
     "output_type": "stream",
     "text": [
      "[1]\n",
      "[1, 1]\n",
      "[1, 1, 2]\n",
      "[1, 1, 2, 3]\n"
     ]
    }
   ],
   "source": [
    "a = [1,1,2,3,5,8,13,21,34,55,89]\n",
    "\n",
    "new_list = []\n",
    "\n",
    "for adding in a:\n",
    "    if adding < 5:\n",
    "        new_list.append(adding)\n",
    "        print(new_list)"
   ]
  },
  {
   "cell_type": "code",
   "execution_count": null,
   "metadata": {},
   "outputs": [],
   "source": []
  }
 ],
 "metadata": {
  "kernelspec": {
   "display_name": "Python 3",
   "language": "python",
   "name": "python3"
  },
  "language_info": {
   "codemirror_mode": {
    "name": "ipython",
    "version": 3
   },
   "file_extension": ".py",
   "mimetype": "text/x-python",
   "name": "python",
   "nbconvert_exporter": "python",
   "pygments_lexer": "ipython3",
   "version": "3.7.4"
  }
 },
 "nbformat": 4,
 "nbformat_minor": 2
}
